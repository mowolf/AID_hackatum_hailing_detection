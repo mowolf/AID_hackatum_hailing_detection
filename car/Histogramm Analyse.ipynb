{
 "cells": [
  {
   "cell_type": "code",
   "execution_count": 9,
   "metadata": {},
   "outputs": [],
   "source": [
    "import csv\n",
    "import numpy as np\n",
    "\n",
    "even_rows = []\n",
    "odd_rows = []\n",
    "\n",
    "with open('observed_data.txt', newline='') as csvfile:\n",
    "    spamreader = csv.reader(csvfile, delimiter=';', quotechar='|', quoting=csv.QUOTE_NONNUMERIC)\n",
    "    i = 0\n",
    "    for row in spamreader:\n",
    "        line = np.array(row)\n",
    "        if i % 2 == 0:\n",
    "            even_rows.append(line)\n",
    "        else:\n",
    "            odd_rows.append(line)\n",
    "        i += 1"
   ]
  },
  {
   "cell_type": "code",
   "execution_count": 10,
   "metadata": {},
   "outputs": [],
   "source": [
    "even_rows = np.array(even_rows)\n",
    "odd_rows = np.array(odd_rows)"
   ]
  },
  {
   "cell_type": "code",
   "execution_count": 41,
   "metadata": {},
   "outputs": [],
   "source": [
    "diff = np.abs(even_rows[0:42] - odd_rows[0:42])"
   ]
  },
  {
   "cell_type": "code",
   "execution_count": 42,
   "metadata": {},
   "outputs": [
    {
     "data": {
      "text/plain": [
       "67.570182624708281"
      ]
     },
     "execution_count": 42,
     "metadata": {},
     "output_type": "execute_result"
    }
   ],
   "source": [
    "np.sum(diff)"
   ]
  },
  {
   "cell_type": "code",
   "execution_count": 18,
   "metadata": {},
   "outputs": [
    {
     "data": {
      "text/plain": [
       "array([[  1.50504111e-02,   6.08677831e-03,   1.59672680e-02, ...,\n",
       "          0.00000000e+00,   0.00000000e+00,   0.00000000e+00],\n",
       "       [  7.18099876e-04,   6.09663161e-06,   7.67288276e-06, ...,\n",
       "          0.00000000e+00,   0.00000000e+00,   4.44444444e-03],\n",
       "       [  5.66893424e-06,   0.00000000e+00,   1.41723356e-06, ...,\n",
       "          0.00000000e+00,   0.00000000e+00,   0.00000000e+00],\n",
       "       ..., \n",
       "       [  9.10236736e-03,   1.00768319e-02,   1.23195920e-02, ...,\n",
       "          0.00000000e+00,   0.00000000e+00,   0.00000000e+00],\n",
       "       [  2.05314751e-02,   2.27495570e-04,   3.84467512e-04, ...,\n",
       "          0.00000000e+00,   0.00000000e+00,   5.91715976e-03],\n",
       "       [  5.92904763e-02,   8.00848059e-03,   1.55924987e-02, ...,\n",
       "          0.00000000e+00,   0.00000000e+00,   0.00000000e+00]])"
      ]
     },
     "execution_count": 18,
     "metadata": {},
     "output_type": "execute_result"
    }
   ],
   "source": [
    "diff"
   ]
  },
  {
   "cell_type": "markdown",
   "metadata": {},
   "source": [
    "## Max:"
   ]
  },
  {
   "cell_type": "code",
   "execution_count": 19,
   "metadata": {},
   "outputs": [],
   "source": [
    "even_rows_max = []\n",
    "odd_rows_max = []\n",
    "\n",
    "with open('observed_data_max.txt', newline='') as csvfile:\n",
    "    spamreader = csv.reader(csvfile, delimiter=';', quotechar='|', quoting=csv.QUOTE_NONNUMERIC)\n",
    "    i = 0\n",
    "    for row in spamreader:\n",
    "        line = np.array(row)\n",
    "        if i % 2 == 0:\n",
    "            even_rows_max.append(line)\n",
    "        else:\n",
    "            odd_rows_max.append(line)\n",
    "        i += 1"
   ]
  },
  {
   "cell_type": "code",
   "execution_count": 20,
   "metadata": {},
   "outputs": [],
   "source": [
    "even_rows_max = np.array(even_rows_max)\n",
    "odd_rows_max = np.array(odd_rows_max)"
   ]
  },
  {
   "cell_type": "code",
   "execution_count": 39,
   "metadata": {},
   "outputs": [],
   "source": [
    "diff_max = np.abs(even_rows_max[0:42] - odd_rows_max[0:42])"
   ]
  },
  {
   "cell_type": "code",
   "execution_count": 40,
   "metadata": {},
   "outputs": [
    {
     "data": {
      "text/plain": [
       "61.914028018351921"
      ]
     },
     "execution_count": 40,
     "metadata": {},
     "output_type": "execute_result"
    }
   ],
   "source": [
    "np.sum(diff_max)"
   ]
  },
  {
   "cell_type": "code",
   "execution_count": 37,
   "metadata": {},
   "outputs": [],
   "source": [
    "diff_max_mar = np.abs(even_rows_max[0:42] - even_rows[0:42])"
   ]
  },
  {
   "cell_type": "code",
   "execution_count": 38,
   "metadata": {},
   "outputs": [
    {
     "data": {
      "text/plain": [
       "64.049306522807157"
      ]
     },
     "execution_count": 38,
     "metadata": {},
     "output_type": "execute_result"
    }
   ],
   "source": [
    "np.sum(diff_max_mar)"
   ]
  },
  {
   "cell_type": "code",
   "execution_count": 108,
   "metadata": {},
   "outputs": [],
   "source": [
    "import matplotlib.pyplot as plt"
   ]
  },
  {
   "cell_type": "code",
   "execution_count": 117,
   "metadata": {},
   "outputs": [],
   "source": [
    "even_rows_filtered = []\n",
    "for row in even_rows:\n",
    "    new_row = []\n",
    "    new_row.append((row[0] + row[1]) / 2)\n",
    "    for i in range(1,255,1):\n",
    "        new_row.append(np.sum(row[i-1:i+1]) / 3)   \n",
    "    new_row.append((row[254] + row[255]) / 2)\n",
    "    even_rows_filtered.append(new_row)\n",
    "even_rows_filtered = np.array(even_rows_filtered)"
   ]
  },
  {
   "cell_type": "code",
   "execution_count": 60,
   "metadata": {},
   "outputs": [
    {
     "data": {
      "text/plain": [
       "array([  0,   1,   2,   3,   4,   5,   6,   7,   8,   9,  10,  11,  12,\n",
       "        13,  14,  15,  16,  17,  18,  19,  20,  21,  22,  23,  24,  25,\n",
       "        26,  27,  28,  29,  30,  31,  32,  33,  34,  35,  36,  37,  38,\n",
       "        39,  40,  41,  42,  43,  44,  45,  46,  47,  48,  49,  50,  51,\n",
       "        52,  53,  54,  55,  56,  57,  58,  59,  60,  61,  62,  63,  64,\n",
       "        65,  66,  67,  68,  69,  70,  71,  72,  73,  74,  75,  76,  77,\n",
       "        78,  79,  80,  81,  82,  83,  84,  85,  86,  87,  88,  89,  90,\n",
       "        91,  92,  93,  94,  95,  96,  97,  98,  99, 100, 101, 102, 103,\n",
       "       104, 105, 106, 107, 108, 109, 110, 111, 112, 113, 114, 115, 116,\n",
       "       117, 118, 119, 120, 121, 122, 123, 124, 125, 126, 127, 128, 129,\n",
       "       130, 131, 132, 133, 134, 135, 136, 137, 138, 139, 140, 141, 142,\n",
       "       143, 144, 145, 146, 147, 148, 149, 150, 151, 152, 153, 154, 155,\n",
       "       156, 157, 158, 159, 160, 161, 162, 163, 164, 165, 166, 167, 168,\n",
       "       169, 170, 171, 172, 173, 174, 175, 176, 177, 178, 179, 180, 181,\n",
       "       182, 183, 184, 185, 186, 187, 188, 189, 190, 191, 192, 193, 194,\n",
       "       195, 196, 197, 198, 199, 200, 201, 202, 203, 204, 205, 206, 207,\n",
       "       208, 209, 210, 211, 212, 213, 214, 215, 216, 217, 218, 219, 220,\n",
       "       221, 222, 223, 224, 225, 226, 227, 228, 229, 230, 231, 232, 233,\n",
       "       234, 235, 236, 237, 238, 239, 240, 241, 242, 243, 244, 245, 246,\n",
       "       247, 248, 249, 250, 251, 252, 253, 254, 255])"
      ]
     },
     "execution_count": 60,
     "metadata": {},
     "output_type": "execute_result"
    }
   ],
   "source": [
    "np.arange(0, 256, 1)"
   ]
  },
  {
   "cell_type": "code",
   "execution_count": 118,
   "metadata": {},
   "outputs": [
    {
     "data": {
      "application/vnd.jupyter.widget-view+json": {
       "model_id": "f445a1190f9f455699fe99c500a2bc2b",
       "version_major": 2,
       "version_minor": 0
      },
      "text/html": [
       "<p>Failed to display Jupyter Widget of type <code>interactive</code>.</p>\n",
       "<p>\n",
       "  If you're reading this message in the Jupyter Notebook or JupyterLab Notebook, it may mean\n",
       "  that the widgets JavaScript is still loading. If this message persists, it\n",
       "  likely means that the widgets JavaScript library is either not installed or\n",
       "  not enabled. See the <a href=\"https://ipywidgets.readthedocs.io/en/stable/user_install.html\">Jupyter\n",
       "  Widgets Documentation</a> for setup instructions.\n",
       "</p>\n",
       "<p>\n",
       "  If you're reading this message in another frontend (for example, a static\n",
       "  rendering on GitHub or <a href=\"https://nbviewer.jupyter.org/\">NBViewer</a>),\n",
       "  it may mean that your frontend doesn't currently support widgets.\n",
       "</p>\n"
      ],
      "text/plain": [
       "interactive(children=(IntSlider(value=0, description='index', max=42), Output()), _dom_classes=('widget-interact',))"
      ]
     },
     "metadata": {},
     "output_type": "display_data"
    }
   ],
   "source": [
    "from ipywidgets import interactive, widgets\n",
    "\n",
    "def plot(index):\n",
    "    plt.bar(np.arange(0, 256, 1), even_rows_filtered[index])\n",
    "\n",
    "interactive(plot, index=widgets.IntSlider(min=0,max=42))"
   ]
  },
  {
   "cell_type": "code",
   "execution_count": 70,
   "metadata": {},
   "outputs": [
    {
     "data": {
      "text/plain": [
       "<Container object of 256 artists>"
      ]
     },
     "execution_count": 70,
     "metadata": {},
     "output_type": "execute_result"
    },
    {
     "data": {
      "image/png": "[encoded data removed]",
      "text/plain": [
       "<matplotlib.figure.Figure at 0x116044d68>"
      ]
     },
     "metadata": {},
     "output_type": "display_data"
    }
   ],
   "source": [
    "plt.bar(np.arange(0, 256, 1), np.mean(even_rows, axis=0))"
   ]
  },
  {
   "cell_type": "code",
   "execution_count": 82,
   "metadata": {},
   "outputs": [
    {
     "data": {
      "application/vnd.jupyter.widget-view+json": {
       "model_id": "55e5b15c7c2a4c82833bfc7e81dfd5ea",
       "version_major": 2,
       "version_minor": 0
      },
      "text/html": [
       "<p>Failed to display Jupyter Widget of type <code>interactive</code>.</p>\n",
       "<p>\n",
       "  If you're reading this message in the Jupyter Notebook or JupyterLab Notebook, it may mean\n",
       "  that the widgets JavaScript is still loading. If this message persists, it\n",
       "  likely means that the widgets JavaScript library is either not installed or\n",
       "  not enabled. See the <a href=\"https://ipywidgets.readthedocs.io/en/stable/user_install.html\">Jupyter\n",
       "  Widgets Documentation</a> for setup instructions.\n",
       "</p>\n",
       "<p>\n",
       "  If you're reading this message in another frontend (for example, a static\n",
       "  rendering on GitHub or <a href=\"https://nbviewer.jupyter.org/\">NBViewer</a>),\n",
       "  it may mean that your frontend doesn't currently support widgets.\n",
       "</p>\n"
      ],
      "text/plain": [
       "interactive(children=(IntSlider(value=0, description='index', max=42), Output()), _dom_classes=('widget-interact',))"
      ]
     },
     "metadata": {},
     "output_type": "display_data"
    },
    {
     "data": {
      "image/png": "[encoded data removed]",
      "text/plain": [
       "<matplotlib.figure.Figure at 0x1177f1400>"
      ]
     },
     "metadata": {},
     "output_type": "display_data"
    },
    {
     "data": {
      "image/png": "[encoded data removed]",
      "text/plain": [
       "<matplotlib.figure.Figure at 0x115c8ed30>"
      ]
     },
     "metadata": {},
     "output_type": "display_data"
    },
    {
     "data": {
      "image/png": "[encoded data removed]",
      "text/plain": [
       "<matplotlib.figure.Figure at 0x11805a390>"
      ]
     },
     "metadata": {},
     "output_type": "display_data"
    },
    {
     "data": {
      "image/png": "[encoded data removed]",
      "text/plain": [
       "<matplotlib.figure.Figure at 0x1176cd278>"
      ]
     },
     "metadata": {},
     "output_type": "display_data"
    },
    {
     "data": {
      "image/png": "[encoded data removed]",
      "text/plain": [
       "<matplotlib.figure.Figure at 0x117470828>"
      ]
     },
     "metadata": {},
     "output_type": "display_data"
    },
    {
     "data": {
      "image/png": "[encoded data removed]",
      "text/plain": [
       "<matplotlib.figure.Figure at 0x117557198>"
      ]
     },
     "metadata": {},
     "output_type": "display_data"
    },
    {
     "data": {
      "image/png": "[encoded data removed]",
      "text/plain": [
       "<matplotlib.figure.Figure at 0x117584a58>"
      ]
     },
     "metadata": {},
     "output_type": "display_data"
    }
   ],
   "source": [
    "from ipywidgets import interactive, widgets\n",
    "\n",
    "def plot(index):\n",
    "    plt.bar(np.arange(0, 256, 1), even_rows_max[index])\n",
    "\n",
    "interactive(plot, index=widgets.IntSlider(min=0,max=42))"
   ]
  },
  {
   "cell_type": "code",
   "execution_count": 84,
   "metadata": {},
   "outputs": [],
   "source": [
    "even_rows_max = []\n",
    "odd_rows_max = []\n",
    "\n",
    "with open('avg_colors_max.csv', newline='') as csvfile:\n",
    "    spamreader = csv.reader(csvfile, delimiter=';', quotechar='|', quoting=csv.QUOTE_NONNUMERIC)\n",
    "    i = 0\n",
    "    for row in spamreader:\n",
    "        line = np.array(row)\n",
    "        if i % 2 == 0:\n",
    "            even_rows_max.append(line)\n",
    "        else:\n",
    "            odd_rows_max.append(line)\n",
    "        i += 1"
   ]
  },
  {
   "cell_type": "code",
   "execution_count": 90,
   "metadata": {},
   "outputs": [],
   "source": [
    "even_rows_max = np.array(even_rows_max)\n",
    "odd_rows_max = np.array(odd_rows_max)\n",
    "\n",
    "diffs_max = np.abs(even_rows_max[0:64] - odd_rows_max[0:64])"
   ]
  },
  {
   "cell_type": "code",
   "execution_count": 91,
   "metadata": {},
   "outputs": [
    {
     "data": {
      "text/plain": [
       "array([[  27.,   29.,   26.],\n",
       "       [  87.,   70.,   61.],\n",
       "       [   2.,    0.,    0.],\n",
       "       [   6.,    3.,    3.],\n",
       "       [  14.,   20.,   21.],\n",
       "       [  14.,   29.,   27.],\n",
       "       [  12.,   17.,   17.],\n",
       "       [  32.,   44.,   40.],\n",
       "       [   8.,   11.,   11.],\n",
       "       [ 114.,  118.,  105.],\n",
       "       [  92.,   93.,   83.],\n",
       "       [  24.,   48.,   44.],\n",
       "       [  80.,   75.,   64.],\n",
       "       [ 143.,  117.,  104.],\n",
       "       [  34.,   35.,   30.],\n",
       "       [ 139.,  114.,  102.],\n",
       "       [  11.,    8.,    9.],\n",
       "       [  96.,   79.,   71.],\n",
       "       [  28.,   25.,   22.],\n",
       "       [   9.,    0.,    1.],\n",
       "       [  14.,   17.,   17.],\n",
       "       [  92.,   68.,   60.],\n",
       "       [  27.,   30.,   26.],\n",
       "       [  44.,   38.,   31.],\n",
       "       [  22.,   30.,   25.],\n",
       "       [   1.,   12.,   11.],\n",
       "       [  47.,   47.,   40.],\n",
       "       [   4.,   12.,   10.],\n",
       "       [  66.,   57.,   48.],\n",
       "       [   6.,   21.,   20.],\n",
       "       [  30.,   31.,   27.],\n",
       "       [  25.,   18.,   14.],\n",
       "       [  17.,   13.,    9.],\n",
       "       [  11.,   27.,   22.],\n",
       "       [   3.,    2.,    0.],\n",
       "       [   6.,   13.,   12.],\n",
       "       [   3.,    8.,    8.],\n",
       "       [   1.,    9.,    8.],\n",
       "       [   2.,    2.,    0.],\n",
       "       [   4.,    3.,    2.],\n",
       "       [   8.,    0.,    2.],\n",
       "       [   6.,   21.,   20.],\n",
       "       [  13.,   23.,   22.],\n",
       "       [  91.,   86.,   74.],\n",
       "       [  79.,   80.,   71.],\n",
       "       [   3.,   19.,   20.],\n",
       "       [   2.,    6.,    6.],\n",
       "       [   6.,    8.,    9.],\n",
       "       [  70.,   47.,   37.],\n",
       "       [   6.,   31.,   29.],\n",
       "       [   5.,   13.,   12.],\n",
       "       [   2.,    3.,    2.],\n",
       "       [   5.,   13.,   13.],\n",
       "       [ 152.,  149.,  136.],\n",
       "       [  11.,    8.,    8.],\n",
       "       [   9.,    2.,    1.],\n",
       "       [   8.,   11.,   10.],\n",
       "       [  29.,   30.,   25.],\n",
       "       [ 102.,   86.,   72.],\n",
       "       [   3.,    7.,    8.],\n",
       "       [  25.,   17.,   14.],\n",
       "       [  19.,    7.,    1.],\n",
       "       [   6.,   12.,   10.],\n",
       "       [   2.,   13.,   12.]])"
      ]
     },
     "execution_count": 91,
     "metadata": {},
     "output_type": "execute_result"
    }
   ],
   "source": [
    "diffs_max"
   ]
  },
  {
   "cell_type": "code",
   "execution_count": 93,
   "metadata": {},
   "outputs": [
    {
     "data": {
      "text/plain": [
       "array([ 32.171875,  32.578125,  28.828125])"
      ]
     },
     "execution_count": 93,
     "metadata": {},
     "output_type": "execute_result"
    }
   ],
   "source": [
    "np.mean(diffs_max, axis=0)"
   ]
  },
  {
   "cell_type": "code",
   "execution_count": 94,
   "metadata": {},
   "outputs": [],
   "source": [
    "even_rows_martin = []\n",
    "odd_rows_martin = []\n",
    "\n",
    "with open('avg_colors_martin.csv', newline='') as csvfile:\n",
    "    spamreader = csv.reader(csvfile, delimiter=';', quotechar='|', quoting=csv.QUOTE_NONNUMERIC)\n",
    "    i = 0\n",
    "    for row in spamreader:\n",
    "        line = np.array(row)\n",
    "        if i % 2 == 0:\n",
    "            even_rows_martin.append(line)\n",
    "        else:\n",
    "            odd_rows_martin.append(line)\n",
    "        i += 1"
   ]
  },
  {
   "cell_type": "code",
   "execution_count": 95,
   "metadata": {},
   "outputs": [],
   "source": [
    "even_rows_martin = np.array(even_rows_martin)\n",
    "odd_rows_martin = np.array(odd_rows_martin)\n",
    "\n",
    "diffs_martin = np.abs(even_rows_martin[0:64] - odd_rows_martin[0:64])"
   ]
  },
  {
   "cell_type": "code",
   "execution_count": 96,
   "metadata": {},
   "outputs": [
    {
     "data": {
      "text/plain": [
       "array([ 24.375   ,  22.484375,  20.609375])"
      ]
     },
     "execution_count": 96,
     "metadata": {},
     "output_type": "execute_result"
    }
   ],
   "source": [
    "np.mean(diffs_martin, axis=0)"
   ]
  },
  {
   "cell_type": "code",
   "execution_count": 97,
   "metadata": {},
   "outputs": [],
   "source": [
    "diffs_beide = np.abs(even_rows_martin[0:64] - odd_rows_max[0:64])"
   ]
  },
  {
   "cell_type": "code",
   "execution_count": 122,
   "metadata": {},
   "outputs": [],
   "source": [
    "diff_beide_vector = np.mean(diffs_beide, axis=0)"
   ]
  },
  {
   "cell_type": "code",
   "execution_count": 123,
   "metadata": {},
   "outputs": [
    {
     "data": {
      "text/plain": [
       "array([ 59.8125  ,  58.234375,  50.15625 ])"
      ]
     },
     "execution_count": 123,
     "metadata": {},
     "output_type": "execute_result"
    }
   ],
   "source": [
    "diff_beide_vector"
   ]
  },
  {
   "cell_type": "code",
   "execution_count": 121,
   "metadata": {},
   "outputs": [
    {
     "data": {
      "text/plain": [
       "97.388022887586772"
      ]
     },
     "execution_count": 121,
     "metadata": {},
     "output_type": "execute_result"
    }
   ],
   "source": [
    "np.linalg.norm(diff_beide_vector)"
   ]
  },
  {
   "cell_type": "code",
   "execution_count": 124,
   "metadata": {},
   "outputs": [
    {
     "data": {
      "text/plain": [
       "39.04400187008563"
      ]
     },
     "execution_count": 124,
     "metadata": {},
     "output_type": "execute_result"
    }
   ],
   "source": [
    "np.linalg.norm(np.mean(diffs_martin, axis=0))"
   ]
  },
  {
   "cell_type": "code",
   "execution_count": 125,
   "metadata": {},
   "outputs": [
    {
     "data": {
      "text/plain": [
       "54.105679559052533"
      ]
     },
     "execution_count": 125,
     "metadata": {},
     "output_type": "execute_result"
    }
   ],
   "source": [
    "np.linalg.norm(np.mean(diffs_max, axis=0))"
   ]
  },
  {
   "cell_type": "code",
   "execution_count": null,
   "metadata": {},
   "outputs": [],
   "source": []
  }
 ],
 "metadata": {
  "kernelspec": {
   "display_name": "Python 3",
   "language": "python",
   "name": "python3"
  },
  "language_info": {
   "codemirror_mode": {
    "name": "ipython",
    "version": 3
   },
   "file_extension": ".py",
   "mimetype": "text/x-python",
   "name": "python",
   "nbconvert_exporter": "python",
   "pygments_lexer": "ipython3",
   "version": "3.6.3"
  }
 },
 "nbformat": 4,
 "nbformat_minor": 2
}
